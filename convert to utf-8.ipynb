{
 "cells": [
  {
   "cell_type": "code",
   "execution_count": 1,
   "id": "8843cb2d-fa9d-4e96-8c26-e713a409b5f9",
   "metadata": {},
   "outputs": [],
   "source": [
    "from pathlib import Path\n",
    "import pandas as pd\n",
    "import chardet"
   ]
  },
  {
   "cell_type": "code",
   "execution_count": 2,
   "id": "5cf04232-d71a-4e06-847f-9b747f5c8465",
   "metadata": {},
   "outputs": [
    {
     "name": "stdout",
     "output_type": "stream",
     "text": [
      "{'encoding': 'Windows-1252', 'confidence': 0.73, 'language': ''}\n"
     ]
    }
   ],
   "source": [
    "with open('C:\\\\Users\\\\LabUser\\\\Project_3\\\\Library_Data\\\\pupld11b.csv', 'rb') as file:\n",
    "    result = chardet.detect(file.read())\n",
    "    print(result)"
   ]
  },
  {
   "cell_type": "code",
   "execution_count": 3,
   "id": "8d624e04-2958-4986-a329-0be8ee3cbe4a",
   "metadata": {},
   "outputs": [
    {
     "name": "stderr",
     "output_type": "stream",
     "text": [
      "C:\\Users\\LabUser\\AppData\\Local\\Temp\\ipykernel_15688\\2153928935.py:1: DtypeWarning: Columns (14,149,152) have mixed types. Specify dtype option on import or set low_memory=False.\n",
      "  df = pd.read_csv('C:\\\\Users\\\\LabUser\\\\Project_3\\\\Library_Data\\\\pupld11b.csv', encoding='Windows-1252')\n"
     ]
    }
   ],
   "source": [
    "df = pd.read_csv('C:\\\\Users\\\\LabUser\\\\Project_3\\\\Library_Data\\\\pupld11b.csv', encoding='Windows-1252')"
   ]
  },
  {
   "cell_type": "code",
   "execution_count": 4,
   "id": "63be97d8-cbfc-48aa-b2cb-01c43283c5d3",
   "metadata": {},
   "outputs": [],
   "source": [
    "df.to_csv('C:\\\\Users\\\\LabUser\\\\Project_3\\\\Library_Data\\\\pupld11b_utf8.csv', encoding='utf-8', index=False)"
   ]
  },
  {
   "cell_type": "code",
   "execution_count": 5,
   "id": "30ec881d-1e4b-4383-8e56-5d79445315d8",
   "metadata": {},
   "outputs": [
    {
     "name": "stdout",
     "output_type": "stream",
     "text": [
      "{'encoding': 'Windows-1252', 'confidence': 0.73, 'language': ''}\n"
     ]
    }
   ],
   "source": [
    "with open('C:\\\\Users\\\\LabUser\\\\Project_3\\\\Library_Data\\\\pupld11b.csv', 'rb') as file:\n",
    "    result = chardet.detect(file.read())\n",
    "    print(result)"
   ]
  },
  {
   "cell_type": "code",
   "execution_count": 6,
   "id": "006b48b0-5b87-4501-ac54-3770d0161dc9",
   "metadata": {},
   "outputs": [
    {
     "name": "stdout",
     "output_type": "stream",
     "text": [
      "{'encoding': 'ISO-8859-1', 'confidence': 0.73, 'language': ''}\n"
     ]
    }
   ],
   "source": [
    "with open('C:\\\\Users\\\\LabUser\\\\Project_3\\\\Library_Data\\\\pupld08a.csv', 'rb') as file:\n",
    "    result = chardet.detect(file.read())\n",
    "    print(result)"
   ]
  },
  {
   "cell_type": "code",
   "execution_count": 10,
   "id": "de55c287-d130-475c-b1d1-346bacb3d812",
   "metadata": {},
   "outputs": [
    {
     "name": "stderr",
     "output_type": "stream",
     "text": [
      "C:\\Users\\LabUser\\AppData\\Local\\Temp\\ipykernel_15688\\895137622.py:1: DtypeWarning: Columns (13,132,145) have mixed types. Specify dtype option on import or set low_memory=False.\n",
      "  df2 = pd.read_csv('C:\\\\Users\\\\LabUser\\\\Project_3\\\\Library_Data\\\\pupld08a.csv', encoding='ISO-8859-1')\n"
     ]
    }
   ],
   "source": [
    "df2 = pd.read_csv('C:\\\\Users\\\\LabUser\\\\Project_3\\\\Library_Data\\\\pupld08a.csv', encoding='ISO-8859-1')"
   ]
  },
  {
   "cell_type": "code",
   "execution_count": 11,
   "id": "4829d5fe-e369-4e7e-bcfe-f43f503ba164",
   "metadata": {},
   "outputs": [],
   "source": [
    "df2.to_csv('C:\\\\Users\\\\LabUser\\\\Project_3\\\\Library_Data\\\\pupld08a_utf8.csv', encoding='utf-8', index=False)"
   ]
  },
  {
   "cell_type": "code",
   "execution_count": 13,
   "id": "47d70d41-5110-43f7-981e-a47566335106",
   "metadata": {},
   "outputs": [
    {
     "name": "stdout",
     "output_type": "stream",
     "text": [
      "{'encoding': 'Windows-1252', 'confidence': 0.73, 'language': ''}\n"
     ]
    }
   ],
   "source": [
    "with open('C:\\\\Users\\\\LabUser\\\\Project_3\\\\Library_Data\\\\pupld09a.csv', 'rb') as file:\n",
    "    result = chardet.detect(file.read())\n",
    "    print(result)"
   ]
  },
  {
   "cell_type": "code",
   "execution_count": 15,
   "id": "ec25ccc8-0dfb-4a35-8e19-f6df665671c1",
   "metadata": {},
   "outputs": [
    {
     "name": "stderr",
     "output_type": "stream",
     "text": [
      "C:\\Users\\LabUser\\AppData\\Local\\Temp\\ipykernel_15688\\4122083864.py:1: DtypeWarning: Columns (13,147) have mixed types. Specify dtype option on import or set low_memory=False.\n",
      "  df3 = pd.read_csv('C:\\\\Users\\\\LabUser\\\\Project_3\\\\Library_Data\\\\pupld09a.csv', encoding='Windows-1252')\n"
     ]
    }
   ],
   "source": [
    "df3 = pd.read_csv('C:\\\\Users\\\\LabUser\\\\Project_3\\\\Library_Data\\\\pupld09a.csv', encoding='Windows-1252')"
   ]
  },
  {
   "cell_type": "code",
   "execution_count": 16,
   "id": "be2872db-d1c1-4494-ba9f-4124c4b9a99d",
   "metadata": {},
   "outputs": [],
   "source": [
    "df3.to_csv('C:\\\\Users\\\\LabUser\\\\Project_3\\\\Library_Data\\\\pupld09a_utf8.csv', encoding='utf-8', index=False)"
   ]
  },
  {
   "cell_type": "code",
   "execution_count": 17,
   "id": "d56c240e-cdc2-423d-8b37-d8eeb687ffcb",
   "metadata": {},
   "outputs": [
    {
     "name": "stdout",
     "output_type": "stream",
     "text": [
      "{'encoding': 'Windows-1252', 'confidence': 0.73, 'language': ''}\n"
     ]
    }
   ],
   "source": [
    "with open('C:\\\\Users\\\\LabUser\\\\Project_3\\\\Library_Data\\\\pupld10a.csv', 'rb') as file:\n",
    "    result = chardet.detect(file.read())\n",
    "    print(result)"
   ]
  },
  {
   "cell_type": "code",
   "execution_count": 18,
   "id": "e72e6322-89da-4a86-bb96-eabf94fdd528",
   "metadata": {},
   "outputs": [
    {
     "name": "stderr",
     "output_type": "stream",
     "text": [
      "C:\\Users\\LabUser\\AppData\\Local\\Temp\\ipykernel_15688\\2109396816.py:1: DtypeWarning: Columns (13,149) have mixed types. Specify dtype option on import or set low_memory=False.\n",
      "  df4 = pd.read_csv('C:\\\\Users\\\\LabUser\\\\Project_3\\\\Library_Data\\\\pupld10a.csv', encoding='Windows-1252')\n"
     ]
    }
   ],
   "source": [
    "df4 = pd.read_csv('C:\\\\Users\\\\LabUser\\\\Project_3\\\\Library_Data\\\\pupld10a.csv', encoding='Windows-1252')"
   ]
  },
  {
   "cell_type": "code",
   "execution_count": 19,
   "id": "5dfacf62-2444-4db5-81a1-38dbd8ad5c2a",
   "metadata": {},
   "outputs": [],
   "source": [
    "df4.to_csv('C:\\\\Users\\\\LabUser\\\\Project_3\\\\Library_Data\\\\pupld10a_utf8.csv', encoding='utf-8', index=False)"
   ]
  },
  {
   "cell_type": "code",
   "execution_count": 20,
   "id": "756cfa00-3aa5-4517-8ad0-fa1aacecfbc9",
   "metadata": {},
   "outputs": [
    {
     "name": "stdout",
     "output_type": "stream",
     "text": [
      "{'encoding': 'Windows-1252', 'confidence': 0.73, 'language': ''}\n"
     ]
    }
   ],
   "source": [
    "with open('C:\\\\Users\\\\LabUser\\\\Project_3\\\\Library_Data\\\\pupld12a.csv', 'rb') as file:\n",
    "    result = chardet.detect(file.read())\n",
    "    print(result)"
   ]
  },
  {
   "cell_type": "code",
   "execution_count": 21,
   "id": "b20033cc-0fc9-4d2f-9ff4-97e6d3e3da94",
   "metadata": {},
   "outputs": [
    {
     "name": "stderr",
     "output_type": "stream",
     "text": [
      "C:\\Users\\LabUser\\AppData\\Local\\Temp\\ipykernel_15688\\4010138779.py:1: DtypeWarning: Columns (13,151) have mixed types. Specify dtype option on import or set low_memory=False.\n",
      "  df5 = pd.read_csv('C:\\\\Users\\\\LabUser\\\\Project_3\\\\Library_Data\\\\pupld12a.csv', encoding='Windows-1252')\n"
     ]
    }
   ],
   "source": [
    "df5 = pd.read_csv('C:\\\\Users\\\\LabUser\\\\Project_3\\\\Library_Data\\\\pupld12a.csv', encoding='Windows-1252')"
   ]
  },
  {
   "cell_type": "code",
   "execution_count": 22,
   "id": "2f2f698f-6527-44e2-b878-1bbec344c3ab",
   "metadata": {},
   "outputs": [],
   "source": [
    "df5.to_csv('C:\\\\Users\\\\LabUser\\\\Project_3\\\\Library_Data\\\\pupld12a_utf8.csv', encoding='utf-8', index=False)"
   ]
  },
  {
   "cell_type": "code",
   "execution_count": 33,
   "id": "a581b9c8-31d0-4d8e-8e00-984c6fb9aa97",
   "metadata": {},
   "outputs": [
    {
     "name": "stdout",
     "output_type": "stream",
     "text": [
      "{'encoding': 'Windows-1252', 'confidence': 0.73, 'language': ''}\n"
     ]
    }
   ],
   "source": [
    "with open('C:\\\\Users\\\\LabUser\\\\Project_3\\\\Library_Data\\\\pupld13a.csv', 'rb') as file:\n",
    "    result = chardet.detect(file.read())\n",
    "    print(result)"
   ]
  },
  {
   "cell_type": "code",
   "execution_count": 34,
   "id": "8387cb6c-865a-40ed-9c41-cabc294a2568",
   "metadata": {},
   "outputs": [
    {
     "name": "stderr",
     "output_type": "stream",
     "text": [
      "C:\\Users\\LabUser\\AppData\\Local\\Temp\\ipykernel_15688\\1301015599.py:1: DtypeWarning: Columns (13) have mixed types. Specify dtype option on import or set low_memory=False.\n",
      "  df6 = pd.read_csv('C:\\\\Users\\\\LabUser\\\\Project_3\\\\Library_Data\\\\pupld13a.csv', encoding='Windows-1252')\n"
     ]
    }
   ],
   "source": [
    "df6 = pd.read_csv('C:\\\\Users\\\\LabUser\\\\Project_3\\\\Library_Data\\\\pupld13a.csv', encoding='Windows-1252')"
   ]
  },
  {
   "cell_type": "code",
   "execution_count": 35,
   "id": "58c4c0bc-1f58-4ab6-b99d-2ad5e5a7a6e1",
   "metadata": {},
   "outputs": [],
   "source": [
    "df6.to_csv('C:\\\\Users\\\\LabUser\\\\Project_3\\\\Library_Data\\\\pupld13a_utf8.csv', encoding='utf-8', index=False)"
   ]
  },
  {
   "cell_type": "code",
   "execution_count": 36,
   "id": "6f6f3029-b011-4d29-8084-c378afaf5c44",
   "metadata": {},
   "outputs": [
    {
     "name": "stdout",
     "output_type": "stream",
     "text": [
      "{'encoding': 'Windows-1252', 'confidence': 0.73, 'language': ''}\n"
     ]
    }
   ],
   "source": [
    "with open('C:\\\\Users\\\\LabUser\\\\Project_3\\\\Library_Data\\\\PLS_FY2014_AE_pupld14a.csv', 'rb') as file:\n",
    "    result = chardet.detect(file.read())\n",
    "    print(result)"
   ]
  },
  {
   "cell_type": "code",
   "execution_count": 37,
   "id": "9e70f7c7-879b-4575-8f72-38891f6365e0",
   "metadata": {},
   "outputs": [],
   "source": [
    "df7 = pd.read_csv('C:\\\\Users\\\\LabUser\\\\Project_3\\\\Library_Data\\\\PLS_FY2014_AE_pupld14a.csv', encoding='Windows-1252')"
   ]
  },
  {
   "cell_type": "code",
   "execution_count": 38,
   "id": "1f25c961-ef34-42f9-aa2a-a22f44343576",
   "metadata": {},
   "outputs": [],
   "source": [
    "df7.to_csv('C:\\\\Users\\\\LabUser\\\\Project_3\\\\Library_Data\\\\PLS_FY2014_AE_pupld14a.csv', encoding='utf-8', index=False)"
   ]
  },
  {
   "cell_type": "code",
   "execution_count": null,
   "id": "a836873d-9d0d-4255-b3ef-f148b2195583",
   "metadata": {},
   "outputs": [],
   "source": []
  }
 ],
 "metadata": {
  "kernelspec": {
   "display_name": "Python 3 (ipykernel)",
   "language": "python",
   "name": "python3"
  },
  "language_info": {
   "codemirror_mode": {
    "name": "ipython",
    "version": 3
   },
   "file_extension": ".py",
   "mimetype": "text/x-python",
   "name": "python",
   "nbconvert_exporter": "python",
   "pygments_lexer": "ipython3",
   "version": "3.11.7"
  }
 },
 "nbformat": 4,
 "nbformat_minor": 5
}
