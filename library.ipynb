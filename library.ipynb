{
 "cells": [
  {
   "cell_type": "raw",
   "id": "484bf3ff-1acd-4767-9203-470e0a4e7ebb",
   "metadata": {},
   "source": [
    "Library Data"
   ]
  },
  {
   "cell_type": "code",
   "execution_count": 1,
   "id": "65e60c7a-3c91-4048-bb40-19c4d03b4d1d",
   "metadata": {},
   "outputs": [],
   "source": [
    "from pathlib import Path\n",
    "import pandas as pd\n",
    "import glob\n",
    "import chardet"
   ]
  },
  {
   "cell_type": "code",
   "execution_count": 2,
   "id": "d969584f-1c45-4e2f-97c2-ae3967bfffe7",
   "metadata": {},
   "outputs": [
    {
     "name": "stdout",
     "output_type": "stream",
     "text": [
      "filename: ../Project_3/Library_Data\\pupld2002a.csv year: 2002\n",
      "filename: ../Project_3/Library_Data\\pupld2003a.csv year: 2003\n",
      "filename: ../Project_3/Library_Data\\pupld2004a.csv year: 2004\n",
      "filename: ../Project_3/Library_Data\\pupld2005a.csv year: 2005\n",
      "filename: ../Project_3/Library_Data\\pupld2006a.csv year: 2006\n",
      "filename: ../Project_3/Library_Data\\pupld2007a.csv year: 2007\n",
      "filename: ../Project_3/Library_Data\\pupld2008a.csv year: 2008\n",
      "filename: ../Project_3/Library_Data\\pupld2009a.csv year: 2009\n",
      "filename: ../Project_3/Library_Data\\pupld2010a.csv year: 2010\n",
      "filename: ../Project_3/Library_Data\\pupld2011a.csv year: 2011\n",
      "filename: ../Project_3/Library_Data\\pupld2012a.csv year: 2012\n",
      "filename: ../Project_3/Library_Data\\pupld2013a.csv year: 2013\n",
      "filename: ../Project_3/Library_Data\\pupld2014a.csv year: 2014\n"
     ]
    }
   ],
   "source": [
    "for csv in sorted(glob.glob(\"../Project_3/Library_Data/*.csv\")):\n",
    "        year = csv[31:35]\n",
    "        print(f'filename: {csv} year: {year}')"
   ]
  },
  {
   "cell_type": "code",
   "execution_count": 3,
   "id": "243d8b93-ae9b-4572-9c9e-175d1013e400",
   "metadata": {},
   "outputs": [
    {
     "name": "stderr",
     "output_type": "stream",
     "text": [
      "C:\\Users\\LabUser\\AppData\\Local\\Temp\\ipykernel_9536\\2900934032.py:6: DtypeWarning: Columns (10,62) have mixed types. Specify dtype option on import or set low_memory=False.\n",
      "  data = pd.read_csv(csv)\n"
     ]
    },
    {
     "name": "stdout",
     "output_type": "stream",
     "text": [
      "1 Saving 9141 rows from ../Project_3/Library_Data\\pupld2002a.csv\n"
     ]
    },
    {
     "name": "stderr",
     "output_type": "stream",
     "text": [
      "C:\\Users\\LabUser\\AppData\\Local\\Temp\\ipykernel_9536\\2900934032.py:6: DtypeWarning: Columns (10,13,106) have mixed types. Specify dtype option on import or set low_memory=False.\n",
      "  data = pd.read_csv(csv)\n"
     ]
    },
    {
     "name": "stdout",
     "output_type": "stream",
     "text": [
      "2 Saving 9214 rows from ../Project_3/Library_Data\\pupld2003a.csv\n"
     ]
    },
    {
     "name": "stderr",
     "output_type": "stream",
     "text": [
      "C:\\Users\\LabUser\\AppData\\Local\\Temp\\ipykernel_9536\\2900934032.py:6: DtypeWarning: Columns (13,124) have mixed types. Specify dtype option on import or set low_memory=False.\n",
      "  data = pd.read_csv(csv)\n"
     ]
    },
    {
     "name": "stdout",
     "output_type": "stream",
     "text": [
      "3 Saving 9210 rows from ../Project_3/Library_Data\\pupld2004a.csv\n"
     ]
    },
    {
     "name": "stderr",
     "output_type": "stream",
     "text": [
      "C:\\Users\\LabUser\\AppData\\Local\\Temp\\ipykernel_9536\\2900934032.py:6: DtypeWarning: Columns (13) have mixed types. Specify dtype option on import or set low_memory=False.\n",
      "  data = pd.read_csv(csv)\n"
     ]
    },
    {
     "name": "stdout",
     "output_type": "stream",
     "text": [
      "4 Saving 9201 rows from ../Project_3/Library_Data\\pupld2005a.csv\n",
      "5 Saving 9211 rows from ../Project_3/Library_Data\\pupld2006a.csv\n"
     ]
    },
    {
     "name": "stderr",
     "output_type": "stream",
     "text": [
      "C:\\Users\\LabUser\\AppData\\Local\\Temp\\ipykernel_9536\\2900934032.py:6: DtypeWarning: Columns (132) have mixed types. Specify dtype option on import or set low_memory=False.\n",
      "  data = pd.read_csv(csv)\n"
     ]
    },
    {
     "name": "stdout",
     "output_type": "stream",
     "text": [
      "6 Saving 9217 rows from ../Project_3/Library_Data\\pupld2007a.csv\n"
     ]
    },
    {
     "name": "stderr",
     "output_type": "stream",
     "text": [
      "C:\\Users\\LabUser\\AppData\\Local\\Temp\\ipykernel_9536\\2900934032.py:6: DtypeWarning: Columns (13,132,145) have mixed types. Specify dtype option on import or set low_memory=False.\n",
      "  data = pd.read_csv(csv)\n"
     ]
    },
    {
     "name": "stdout",
     "output_type": "stream",
     "text": [
      "7 Saving 9284 rows from ../Project_3/Library_Data\\pupld2008a.csv\n"
     ]
    },
    {
     "name": "stderr",
     "output_type": "stream",
     "text": [
      "C:\\Users\\LabUser\\AppData\\Local\\Temp\\ipykernel_9536\\2900934032.py:6: DtypeWarning: Columns (13,147) have mixed types. Specify dtype option on import or set low_memory=False.\n",
      "  data = pd.read_csv(csv)\n"
     ]
    },
    {
     "name": "stdout",
     "output_type": "stream",
     "text": [
      "8 Saving 9299 rows from ../Project_3/Library_Data\\pupld2009a.csv\n"
     ]
    },
    {
     "name": "stderr",
     "output_type": "stream",
     "text": [
      "C:\\Users\\LabUser\\AppData\\Local\\Temp\\ipykernel_9536\\2900934032.py:6: DtypeWarning: Columns (13,149) have mixed types. Specify dtype option on import or set low_memory=False.\n",
      "  data = pd.read_csv(csv)\n"
     ]
    },
    {
     "name": "stdout",
     "output_type": "stream",
     "text": [
      "9 Saving 9308 rows from ../Project_3/Library_Data\\pupld2010a.csv\n"
     ]
    },
    {
     "name": "stderr",
     "output_type": "stream",
     "text": [
      "C:\\Users\\LabUser\\AppData\\Local\\Temp\\ipykernel_9536\\2900934032.py:6: DtypeWarning: Columns (14,149,152) have mixed types. Specify dtype option on import or set low_memory=False.\n",
      "  data = pd.read_csv(csv)\n"
     ]
    },
    {
     "name": "stdout",
     "output_type": "stream",
     "text": [
      "10 Saving 9315 rows from ../Project_3/Library_Data\\pupld2011a.csv\n"
     ]
    },
    {
     "name": "stderr",
     "output_type": "stream",
     "text": [
      "C:\\Users\\LabUser\\AppData\\Local\\Temp\\ipykernel_9536\\2900934032.py:6: DtypeWarning: Columns (13,151) have mixed types. Specify dtype option on import or set low_memory=False.\n",
      "  data = pd.read_csv(csv)\n"
     ]
    },
    {
     "name": "stdout",
     "output_type": "stream",
     "text": [
      "11 Saving 9305 rows from ../Project_3/Library_Data\\pupld2012a.csv\n"
     ]
    },
    {
     "name": "stderr",
     "output_type": "stream",
     "text": [
      "C:\\Users\\LabUser\\AppData\\Local\\Temp\\ipykernel_9536\\2900934032.py:6: DtypeWarning: Columns (13) have mixed types. Specify dtype option on import or set low_memory=False.\n",
      "  data = pd.read_csv(csv)\n"
     ]
    },
    {
     "name": "stdout",
     "output_type": "stream",
     "text": [
      "12 Saving 9309 rows from ../Project_3/Library_Data\\pupld2013a.csv\n",
      "13 Saving 9305 rows from ../Project_3/Library_Data\\pupld2014a.csv\n",
      "Number of saved DataFrames: 13\n"
     ]
    }
   ],
   "source": [
    "dfs = [] \n",
    "counter = 1\n",
    "\n",
    "for csv in sorted(glob.glob(\"../Project_3/Library_Data/*.csv\")):\n",
    "  year = csv[31:35] \n",
    "  data = pd.read_csv(csv) \n",
    "  data['year'] = year \n",
    "  print(f'{counter} Saving {len(data)} rows from {csv}')\n",
    "  dfs.append(data)\n",
    "  counter += 1\n",
    "\n",
    "print(f'Number of saved DataFrames: {len(dfs)}')"
   ]
  },
  {
   "cell_type": "code",
   "execution_count": 5,
   "id": "703c90a7-dae0-43d1-8344-9152ee58384b",
   "metadata": {},
   "outputs": [
    {
     "data": {
      "text/html": [
       "<div>\n",
       "<style scoped>\n",
       "    .dataframe tbody tr th:only-of-type {\n",
       "        vertical-align: middle;\n",
       "    }\n",
       "\n",
       "    .dataframe tbody tr th {\n",
       "        vertical-align: top;\n",
       "    }\n",
       "\n",
       "    .dataframe thead th {\n",
       "        text-align: right;\n",
       "    }\n",
       "</style>\n",
       "<table border=\"1\" class=\"dataframe\">\n",
       "  <thead>\n",
       "    <tr style=\"text-align: right;\">\n",
       "      <th></th>\n",
       "      <th>STABR</th>\n",
       "      <th>FSCSKEY</th>\n",
       "      <th>LIBID</th>\n",
       "      <th>LIBNAME</th>\n",
       "      <th>ADDRESS</th>\n",
       "      <th>CITY</th>\n",
       "      <th>ZIP</th>\n",
       "      <th>ZIP4</th>\n",
       "      <th>ADDRES_M</th>\n",
       "      <th>CITY_M</th>\n",
       "      <th>...</th>\n",
       "      <th>IMP32</th>\n",
       "      <th>IMP33</th>\n",
       "      <th>IMP34</th>\n",
       "      <th>IMP35</th>\n",
       "      <th>IMP36</th>\n",
       "      <th>IMP37</th>\n",
       "      <th>IMP39</th>\n",
       "      <th>IMP40</th>\n",
       "      <th>IMP41</th>\n",
       "      <th>year</th>\n",
       "    </tr>\n",
       "  </thead>\n",
       "  <tbody>\n",
       "    <tr>\n",
       "      <th>0</th>\n",
       "      <td>AK</td>\n",
       "      <td>AK0001</td>\n",
       "      <td>AK0001-002</td>\n",
       "      <td>ANCHOR POINT PUBLIC LIBRARY</td>\n",
       "      <td>73405 MILO FRITZ AVENUE</td>\n",
       "      <td>ANCHOR POINT</td>\n",
       "      <td>99556</td>\n",
       "      <td>0129</td>\n",
       "      <td>P.O. BOX 129</td>\n",
       "      <td>ANCHOR POINT</td>\n",
       "      <td>...</td>\n",
       "      <td>0</td>\n",
       "      <td>0</td>\n",
       "      <td>0</td>\n",
       "      <td>0</td>\n",
       "      <td>0</td>\n",
       "      <td>0</td>\n",
       "      <td>0</td>\n",
       "      <td>0</td>\n",
       "      <td>0</td>\n",
       "      <td>2002</td>\n",
       "    </tr>\n",
       "    <tr>\n",
       "      <th>1</th>\n",
       "      <td>AK</td>\n",
       "      <td>AK0002</td>\n",
       "      <td>AK0002-011</td>\n",
       "      <td>ANCHORAGE MUNICIPAL LIBRARIES</td>\n",
       "      <td>3600 DENALI STREET</td>\n",
       "      <td>ANCHORAGE</td>\n",
       "      <td>99503</td>\n",
       "      <td>6093</td>\n",
       "      <td>3600 DENALI STREET</td>\n",
       "      <td>ANCHORAGE</td>\n",
       "      <td>...</td>\n",
       "      <td>0</td>\n",
       "      <td>0</td>\n",
       "      <td>0</td>\n",
       "      <td>0</td>\n",
       "      <td>0</td>\n",
       "      <td>0</td>\n",
       "      <td>0</td>\n",
       "      <td>0</td>\n",
       "      <td>0</td>\n",
       "      <td>2002</td>\n",
       "    </tr>\n",
       "  </tbody>\n",
       "</table>\n",
       "<p>2 rows × 108 columns</p>\n",
       "</div>"
      ],
      "text/plain": [
       "  STABR FSCSKEY       LIBID                        LIBNAME  \\\n",
       "0    AK  AK0001  AK0001-002    ANCHOR POINT PUBLIC LIBRARY   \n",
       "1    AK  AK0002  AK0002-011  ANCHORAGE MUNICIPAL LIBRARIES   \n",
       "\n",
       "                   ADDRESS          CITY    ZIP  ZIP4            ADDRES_M  \\\n",
       "0  73405 MILO FRITZ AVENUE  ANCHOR POINT  99556  0129        P.O. BOX 129   \n",
       "1       3600 DENALI STREET     ANCHORAGE  99503  6093  3600 DENALI STREET   \n",
       "\n",
       "         CITY_M  ... IMP32 IMP33 IMP34 IMP35 IMP36 IMP37 IMP39 IMP40 IMP41  \\\n",
       "0  ANCHOR POINT  ...     0     0     0     0     0     0     0     0     0   \n",
       "1     ANCHORAGE  ...     0     0     0     0     0     0     0     0     0   \n",
       "\n",
       "   year  \n",
       "0  2002  \n",
       "1  2002  \n",
       "\n",
       "[2 rows x 108 columns]"
      ]
     },
     "execution_count": 5,
     "metadata": {},
     "output_type": "execute_result"
    }
   ],
   "source": [
    "dfs[0].head(2)"
   ]
  },
  {
   "cell_type": "code",
   "execution_count": 6,
   "id": "4286667b-c585-4c3f-b65c-a624d5da7d32",
   "metadata": {},
   "outputs": [
    {
     "name": "stdout",
     "output_type": "stream",
     "text": [
      "  STABR FSCSKEY       LIBID                        LIBNAME  \\\n",
      "0    AK  AK0001  AK0001-002    ANCHOR POINT PUBLIC LIBRARY   \n",
      "1    AK  AK0002  AK0002-011  ANCHORAGE MUNICIPAL LIBRARIES   \n",
      "2    AK  AK0003  AK0003-002       ANDERSON VILLAGE LIBRARY   \n",
      "3    AK  AK0006  AK0006-002   KUSKOKWIM CONSORTIUM LIBRARY   \n",
      "4    AK  AK0007  AK0007-002        BIG LAKE PUBLIC LIBRARY   \n",
      "\n",
      "                    ADDRESS          CITY    ZIP  ZIP4            ADDRES_M  \\\n",
      "0   73405 MILO FRITZ AVENUE  ANCHOR POINT  99556  0129        P.O. BOX 129   \n",
      "1        3600 DENALI STREET     ANCHORAGE  99503  6093  3600 DENALI STREET   \n",
      "2              FIRST STREET      ANDERSON  99744  3078       P.O. BOX 3078   \n",
      "3         420 STATE HIGHWAY        BETHEL  99559  1068       P.O. BOX 1068   \n",
      "4  3140 SOUTH BIG LAKE ROAD      BIG LAKE  99652  0829     P.O. BOX 520829   \n",
      "\n",
      "         CITY_M  ... MICROF DB_LO_OT F_DB_L_O  GAL GALMS POSTMS ELMATCIR  \\\n",
      "0  ANCHOR POINT  ...    NaN      NaN      NaN  NaN   NaN    NaN      NaN   \n",
      "1     ANCHORAGE  ...    NaN      NaN      NaN  NaN   NaN    NaN      NaN   \n",
      "2      ANDERSON  ...    NaN      NaN      NaN  NaN   NaN    NaN      NaN   \n",
      "3        BETHEL  ...    NaN      NaN      NaN  NaN   NaN    NaN      NaN   \n",
      "4      BIG LAKE  ...    NaN      NaN      NaN  NaN   NaN    NaN      NaN   \n",
      "\n",
      "  F_EMTCIR WIFISESS F_WIFISS  \n",
      "0      NaN      NaN      NaN  \n",
      "1      NaN      NaN      NaN  \n",
      "2      NaN      NaN      NaN  \n",
      "3      NaN      NaN      NaN  \n",
      "4      NaN      NaN      NaN  \n",
      "\n",
      "[5 rows x 233 columns]\n"
     ]
    }
   ],
   "source": [
    "combined_df = pd.concat(dfs, ignore_index=True)\n",
    "print(combined_df.head())"
   ]
  },
  {
   "cell_type": "code",
   "execution_count": 8,
   "id": "0861d724-fa61-486e-845c-f22eeb931f99",
   "metadata": {},
   "outputs": [
    {
     "data": {
      "text/plain": [
       "0    2002\n",
       "1    2002\n",
       "2    2002\n",
       "3    2002\n",
       "4    2002\n",
       "Name: year, dtype: object"
      ]
     },
     "execution_count": 8,
     "metadata": {},
     "output_type": "execute_result"
    }
   ],
   "source": [
    "combined_df[\"year\"].head()"
   ]
  },
  {
   "cell_type": "code",
   "execution_count": 9,
   "id": "30182376-c9f1-4f86-85be-cad1735e3bfd",
   "metadata": {},
   "outputs": [
    {
     "data": {
      "text/plain": [
       "120314    2014\n",
       "120315    2014\n",
       "120316    2014\n",
       "120317    2014\n",
       "120318    2014\n",
       "Name: year, dtype: object"
      ]
     },
     "execution_count": 9,
     "metadata": {},
     "output_type": "execute_result"
    }
   ],
   "source": [
    "combined_df[\"year\"].tail()"
   ]
  },
  {
   "cell_type": "code",
   "execution_count": 10,
   "id": "2fd0bb29-5ae3-4e2f-a448-ad3c81cade9e",
   "metadata": {},
   "outputs": [
    {
     "name": "stdout",
     "output_type": "stream",
     "text": [
      "['STABR', 'FSCSKEY', 'LIBID', 'LIBNAME', 'ADDRESS', 'CITY', 'ZIP', 'ZIP4', 'ADDRES_M', 'CITY_M', 'ZIP_M', 'ZIP4_M', 'CNTY', 'PHONE', 'WEB_ADDR', 'C_RELATN', 'C_LEGBAS', 'C_ADMIN', 'C_FSCS', 'GEOCODE', 'POPU_LSA', 'POPU_UND', 'CENTLIB', 'BRANLIB', 'BKMOB', 'MASTER', 'LIBRARIA', 'OTHPAID', 'TOTSTAFF', 'LOCGVT', 'STGVT', 'FEDGVT', 'OTHINCM', 'TOTINCM', 'SALARIES', 'BENEFIT', 'STAFFEXP', 'TOTEXPCO', 'OTHOPEXP', 'TOTOPEXP', 'CAPITAL', 'BKVOL', 'AUDIO', 'VIDEO', 'SUBSCRIP', 'HRS_OPEN', 'VISITS', 'REFERENC', 'TOTCIR', 'LOANTO', 'LOANFM', 'KIDCIRCL', 'KIDATTEN', 'ELMATEXP', 'ELACCEXP', 'ELMATS', 'ELSVCACC', 'INETACC', 'STFTERMS', 'GPTERMS', 'ERES_USR', 'PUB_FIPS', 'CNTYFIPS', 'YR_SUB', 'OBEREG', 'RSTATUS', 'IMP0', 'IMP1', 'IMP2', 'IMP3', 'IMP4', 'IMP5', 'IMP6', 'IMP7', 'IMP8', 'IMP9', 'IMP10', 'IMP11', 'IMP12', 'IMP13', 'IMP14', 'IMP15', 'IMP16', 'IMP17', 'IMP18', 'IMP19', 'IMP20', 'IMP21', 'IMP22', 'IMP23', 'IMP24', 'IMP25', 'IMP26', 'IMP27', 'IMP28', 'IMP29', 'IMP30', 'IMP31', 'IMP32', 'IMP33', 'IMP34', 'IMP35', 'IMP36', 'IMP37', 'IMP39', 'IMP40', 'IMP41', 'year', 'LSABOUND', 'F_POPLSA', 'F_POPUND', 'F_CENLIB', 'F_BRLIB', 'F_BKMOB', 'F_MASTER', 'F_LIBRAR', 'F_OTHSTF', 'F_TOTSTF', 'F_LOCGVT', 'F_STGVT', 'F_FEDGVT', 'F_OTHINC', 'F_TOTINC', 'F_SALX', 'F_BENX', 'F_TOSTFX', 'PRMATEXP', 'F_PRMATX', 'F_ELMATX', 'OTHMATEX', 'F_OTMATX', 'F_TOCOLX', 'F_OTHOPX', 'F_TOTOPX', 'CAP_REV', 'F_TCAPRV', 'F_TCAPX', 'F_BKVOL', 'EBOOK', 'F_EBOOK', 'F_AUDIO', 'F_VIDEO', 'DATABASE', 'F_DBASE', 'F_PRSUB', 'ESUBSCRP', 'F_ESUB', 'F_HRS_OP', 'F_VISITS', 'F_REFER', 'F_TOTCIR', 'F_LOANTO', 'F_LOANFM', 'F_KIDCIR', 'F_KIDATT', 'F_GPTERM', 'F_ER_USR', 'STARTDAT', 'F_STDAT', 'ENDDATE', 'F_ENDDAT', 'FILL44', 'FILLF44', 'FILL45', 'FILLF45', 'FILL46', 'FILLF46', 'FILL47', 'FILLF47', 'TOTPRO', 'F_TOTPRO', 'FILL65', 'FILLF65', 'TOTATTEN', 'F_TOTATT', 'LCAP_REV', 'F_LCAPRV', 'SCAP_REV', 'F_SCAPRV', 'FCAP_REV', 'F_FCAPRV', 'OCAP_REV', 'F_OCAPRV', 'KIDPRO', 'F_KIDPRO', 'STATSTRU', 'STATNAME', 'STATADDR', 'DB_LOC', 'F_DB_LOC', 'DB_ST', 'F_DB_ST', 'DB_OTH', 'F_DB_OTH', 'REGBOR', 'F_REGBOR', 'PITUSR', 'F_PITUSR', 'LONGITUD', 'LATITUDE', 'FIPSST', 'FIPSCO', 'FIPSPLAC', 'CENTRACT', 'CENBLOCK', 'CDCODE', 'MAT_CENT', 'CNTYPOP', 'LOCALE', 'YAPRO', 'F_YAPRO', 'YAATTEN', 'F_YAATT', 'AUDIO_PH', 'F_AUD_PH', 'AUDIO_DL', 'F_AUD_DL', 'VIDEO_PH', 'F_VID_PH', 'VIDEO_DL', 'F_VID_DL', 'MAT_TYPE', 'CBSA', 'MICROF', 'DB_LO_OT', 'F_DB_L_O', 'GAL', 'GALMS', 'POSTMS', 'ELMATCIR', 'F_EMTCIR', 'WIFISESS', 'F_WIFISS']\n"
     ]
    }
   ],
   "source": [
    "pd.set_option('display.max_columns', None)\n",
    "print(combined_df.columns.tolist())"
   ]
  },
  {
   "cell_type": "code",
   "execution_count": 15,
   "id": "d12a6609-d0c3-4c69-bd68-724d9c16b645",
   "metadata": {},
   "outputs": [
    {
     "data": {
      "text/html": [
       "<div>\n",
       "<style scoped>\n",
       "    .dataframe tbody tr th:only-of-type {\n",
       "        vertical-align: middle;\n",
       "    }\n",
       "\n",
       "    .dataframe tbody tr th {\n",
       "        vertical-align: top;\n",
       "    }\n",
       "\n",
       "    .dataframe thead th {\n",
       "        text-align: right;\n",
       "    }\n",
       "</style>\n",
       "<table border=\"1\" class=\"dataframe\">\n",
       "  <thead>\n",
       "    <tr style=\"text-align: right;\">\n",
       "      <th></th>\n",
       "      <th>STABR</th>\n",
       "      <th>FSCSKEY</th>\n",
       "      <th>LIBID</th>\n",
       "      <th>LIBNAME</th>\n",
       "      <th>BKMOB</th>\n",
       "      <th>LONGITUD</th>\n",
       "      <th>LATITUDE</th>\n",
       "      <th>FIPSST</th>\n",
       "      <th>CNTYPOP</th>\n",
       "      <th>ADDRESS</th>\n",
       "      <th>CITY</th>\n",
       "      <th>ZIP</th>\n",
       "      <th>CNTY</th>\n",
       "      <th>GEOCODE</th>\n",
       "      <th>LOCGVT</th>\n",
       "      <th>STGVT</th>\n",
       "      <th>FEDGVT</th>\n",
       "      <th>OTHINCM</th>\n",
       "      <th>TOTINCM</th>\n",
       "      <th>AUDIO</th>\n",
       "      <th>VIDEO</th>\n",
       "      <th>SUBSCRIP</th>\n",
       "      <th>HRS_OPEN</th>\n",
       "      <th>VISITS</th>\n",
       "      <th>REFERENC</th>\n",
       "      <th>TOTCIR</th>\n",
       "      <th>KIDCIRCL</th>\n",
       "      <th>KIDATTEN</th>\n",
       "      <th>year</th>\n",
       "    </tr>\n",
       "  </thead>\n",
       "  <tbody>\n",
       "    <tr>\n",
       "      <th>0</th>\n",
       "      <td>AK</td>\n",
       "      <td>AK0001</td>\n",
       "      <td>AK0001-002</td>\n",
       "      <td>ANCHOR POINT PUBLIC LIBRARY</td>\n",
       "      <td>0</td>\n",
       "      <td>NaN</td>\n",
       "      <td>NaN</td>\n",
       "      <td>NaN</td>\n",
       "      <td>NaN</td>\n",
       "      <td>73405 MILO FRITZ AVENUE</td>\n",
       "      <td>ANCHOR POINT</td>\n",
       "      <td>99556</td>\n",
       "      <td>KENAI PENINSULA</td>\n",
       "      <td>CI1</td>\n",
       "      <td>0</td>\n",
       "      <td>6400</td>\n",
       "      <td>0</td>\n",
       "      <td>5932</td>\n",
       "      <td>12332</td>\n",
       "      <td>170.0</td>\n",
       "      <td>290.0</td>\n",
       "      <td>12</td>\n",
       "      <td>780</td>\n",
       "      <td>6360</td>\n",
       "      <td>250</td>\n",
       "      <td>10243</td>\n",
       "      <td>3998</td>\n",
       "      <td>335</td>\n",
       "      <td>2002</td>\n",
       "    </tr>\n",
       "    <tr>\n",
       "      <th>1</th>\n",
       "      <td>AK</td>\n",
       "      <td>AK0002</td>\n",
       "      <td>AK0002-011</td>\n",
       "      <td>ANCHORAGE MUNICIPAL LIBRARIES</td>\n",
       "      <td>0</td>\n",
       "      <td>NaN</td>\n",
       "      <td>NaN</td>\n",
       "      <td>NaN</td>\n",
       "      <td>NaN</td>\n",
       "      <td>3600 DENALI STREET</td>\n",
       "      <td>ANCHORAGE</td>\n",
       "      <td>99503</td>\n",
       "      <td>ANCHORAGE</td>\n",
       "      <td>MA1</td>\n",
       "      <td>8083056</td>\n",
       "      <td>142198</td>\n",
       "      <td>68794</td>\n",
       "      <td>521226</td>\n",
       "      <td>8815274</td>\n",
       "      <td>24989.0</td>\n",
       "      <td>20197.0</td>\n",
       "      <td>1645</td>\n",
       "      <td>11440</td>\n",
       "      <td>848980</td>\n",
       "      <td>145628</td>\n",
       "      <td>1274160</td>\n",
       "      <td>464756</td>\n",
       "      <td>16000</td>\n",
       "      <td>2002</td>\n",
       "    </tr>\n",
       "    <tr>\n",
       "      <th>2</th>\n",
       "      <td>AK</td>\n",
       "      <td>AK0003</td>\n",
       "      <td>AK0003-002</td>\n",
       "      <td>ANDERSON VILLAGE LIBRARY</td>\n",
       "      <td>0</td>\n",
       "      <td>NaN</td>\n",
       "      <td>NaN</td>\n",
       "      <td>NaN</td>\n",
       "      <td>NaN</td>\n",
       "      <td>FIRST STREET</td>\n",
       "      <td>ANDERSON</td>\n",
       "      <td>99744</td>\n",
       "      <td>DENALI</td>\n",
       "      <td>CI1</td>\n",
       "      <td>4000</td>\n",
       "      <td>6400</td>\n",
       "      <td>0</td>\n",
       "      <td>3000</td>\n",
       "      <td>13400</td>\n",
       "      <td>460.0</td>\n",
       "      <td>1325.0</td>\n",
       "      <td>15</td>\n",
       "      <td>520</td>\n",
       "      <td>2563</td>\n",
       "      <td>427</td>\n",
       "      <td>2741</td>\n",
       "      <td>731</td>\n",
       "      <td>255</td>\n",
       "      <td>2002</td>\n",
       "    </tr>\n",
       "    <tr>\n",
       "      <th>3</th>\n",
       "      <td>AK</td>\n",
       "      <td>AK0006</td>\n",
       "      <td>AK0006-002</td>\n",
       "      <td>KUSKOKWIM CONSORTIUM LIBRARY</td>\n",
       "      <td>0</td>\n",
       "      <td>NaN</td>\n",
       "      <td>NaN</td>\n",
       "      <td>NaN</td>\n",
       "      <td>NaN</td>\n",
       "      <td>420 STATE HIGHWAY</td>\n",
       "      <td>BETHEL</td>\n",
       "      <td>99559</td>\n",
       "      <td>BETHEL</td>\n",
       "      <td>CI1</td>\n",
       "      <td>65000</td>\n",
       "      <td>6400</td>\n",
       "      <td>0</td>\n",
       "      <td>130083</td>\n",
       "      <td>201483</td>\n",
       "      <td>2445.0</td>\n",
       "      <td>1294.0</td>\n",
       "      <td>87</td>\n",
       "      <td>2860</td>\n",
       "      <td>20470</td>\n",
       "      <td>1500</td>\n",
       "      <td>14176</td>\n",
       "      <td>3808</td>\n",
       "      <td>3204</td>\n",
       "      <td>2002</td>\n",
       "    </tr>\n",
       "    <tr>\n",
       "      <th>4</th>\n",
       "      <td>AK</td>\n",
       "      <td>AK0007</td>\n",
       "      <td>AK0007-002</td>\n",
       "      <td>BIG LAKE PUBLIC LIBRARY</td>\n",
       "      <td>0</td>\n",
       "      <td>NaN</td>\n",
       "      <td>NaN</td>\n",
       "      <td>NaN</td>\n",
       "      <td>NaN</td>\n",
       "      <td>3140 SOUTH BIG LAKE ROAD</td>\n",
       "      <td>BIG LAKE</td>\n",
       "      <td>99652</td>\n",
       "      <td>MATANUSKA-SUSITNA</td>\n",
       "      <td>CO1</td>\n",
       "      <td>136495</td>\n",
       "      <td>6400</td>\n",
       "      <td>0</td>\n",
       "      <td>0</td>\n",
       "      <td>142895</td>\n",
       "      <td>791.0</td>\n",
       "      <td>627.0</td>\n",
       "      <td>49</td>\n",
       "      <td>2132</td>\n",
       "      <td>23939</td>\n",
       "      <td>1350</td>\n",
       "      <td>24485</td>\n",
       "      <td>10956</td>\n",
       "      <td>1163</td>\n",
       "      <td>2002</td>\n",
       "    </tr>\n",
       "  </tbody>\n",
       "</table>\n",
       "</div>"
      ],
      "text/plain": [
       "  STABR FSCSKEY       LIBID                        LIBNAME  BKMOB  LONGITUD  \\\n",
       "0    AK  AK0001  AK0001-002    ANCHOR POINT PUBLIC LIBRARY      0       NaN   \n",
       "1    AK  AK0002  AK0002-011  ANCHORAGE MUNICIPAL LIBRARIES      0       NaN   \n",
       "2    AK  AK0003  AK0003-002       ANDERSON VILLAGE LIBRARY      0       NaN   \n",
       "3    AK  AK0006  AK0006-002   KUSKOKWIM CONSORTIUM LIBRARY      0       NaN   \n",
       "4    AK  AK0007  AK0007-002        BIG LAKE PUBLIC LIBRARY      0       NaN   \n",
       "\n",
       "   LATITUDE  FIPSST  CNTYPOP                   ADDRESS          CITY    ZIP  \\\n",
       "0       NaN     NaN      NaN   73405 MILO FRITZ AVENUE  ANCHOR POINT  99556   \n",
       "1       NaN     NaN      NaN        3600 DENALI STREET     ANCHORAGE  99503   \n",
       "2       NaN     NaN      NaN              FIRST STREET      ANDERSON  99744   \n",
       "3       NaN     NaN      NaN         420 STATE HIGHWAY        BETHEL  99559   \n",
       "4       NaN     NaN      NaN  3140 SOUTH BIG LAKE ROAD      BIG LAKE  99652   \n",
       "\n",
       "                CNTY GEOCODE   LOCGVT   STGVT  FEDGVT  OTHINCM  TOTINCM  \\\n",
       "0    KENAI PENINSULA     CI1        0    6400       0     5932    12332   \n",
       "1          ANCHORAGE     MA1  8083056  142198   68794   521226  8815274   \n",
       "2             DENALI     CI1     4000    6400       0     3000    13400   \n",
       "3             BETHEL     CI1    65000    6400       0   130083   201483   \n",
       "4  MATANUSKA-SUSITNA     CO1   136495    6400       0        0   142895   \n",
       "\n",
       "     AUDIO    VIDEO  SUBSCRIP  HRS_OPEN  VISITS  REFERENC   TOTCIR  KIDCIRCL  \\\n",
       "0    170.0    290.0        12       780    6360       250    10243      3998   \n",
       "1  24989.0  20197.0      1645     11440  848980    145628  1274160    464756   \n",
       "2    460.0   1325.0        15       520    2563       427     2741       731   \n",
       "3   2445.0   1294.0        87      2860   20470      1500    14176      3808   \n",
       "4    791.0    627.0        49      2132   23939      1350    24485     10956   \n",
       "\n",
       "   KIDATTEN  year  \n",
       "0       335  2002  \n",
       "1     16000  2002  \n",
       "2       255  2002  \n",
       "3      3204  2002  \n",
       "4      1163  2002  "
      ]
     },
     "execution_count": 15,
     "metadata": {},
     "output_type": "execute_result"
    }
   ],
   "source": [
    "reduced_df = combined_df[['STABR', 'FSCSKEY', 'LIBID','LIBNAME','BKMOB','LONGITUD', 'LATITUDE','FIPSST','CNTYPOP', 'ADDRESS', 'CITY', 'ZIP','CNTY','GEOCODE'\n",
    "                       ,'LOCGVT','STGVT','FEDGVT', 'OTHINCM', 'TOTINCM', 'AUDIO', 'VIDEO', 'SUBSCRIP', 'HRS_OPEN', 'VISITS', 'REFERENC', 'TOTCIR',\n",
    "                       'KIDCIRCL', 'KIDATTEN','year']]\n",
    "reduced_df.head()"
   ]
  },
  {
   "cell_type": "code",
   "execution_count": 16,
   "id": "35d0a5b9-950f-49da-b2e0-98a01ba8b46f",
   "metadata": {},
   "outputs": [
    {
     "data": {
      "text/html": [
       "<div>\n",
       "<style scoped>\n",
       "    .dataframe tbody tr th:only-of-type {\n",
       "        vertical-align: middle;\n",
       "    }\n",
       "\n",
       "    .dataframe tbody tr th {\n",
       "        vertical-align: top;\n",
       "    }\n",
       "\n",
       "    .dataframe thead th {\n",
       "        text-align: right;\n",
       "    }\n",
       "</style>\n",
       "<table border=\"1\" class=\"dataframe\">\n",
       "  <thead>\n",
       "    <tr style=\"text-align: right;\">\n",
       "      <th></th>\n",
       "      <th>STATE</th>\n",
       "      <th>FSCSKEY</th>\n",
       "      <th>LIBRARY_ID</th>\n",
       "      <th>LIBRARY_NAME</th>\n",
       "      <th>MOBILE_BOOKS</th>\n",
       "      <th>LONGITUD</th>\n",
       "      <th>LATITUDE</th>\n",
       "      <th>FIPSST</th>\n",
       "      <th>COUNTY_POP</th>\n",
       "      <th>ADDRESS</th>\n",
       "      <th>CITY</th>\n",
       "      <th>ZIP</th>\n",
       "      <th>COUNTY</th>\n",
       "      <th>GEOCODE</th>\n",
       "      <th>LOCGVT</th>\n",
       "      <th>STGVT</th>\n",
       "      <th>FEDGVT</th>\n",
       "      <th>OTHER_INCOME</th>\n",
       "      <th>TOTAL_INCOME</th>\n",
       "      <th>AUDIO</th>\n",
       "      <th>VIDEO</th>\n",
       "      <th>SUBSCRIP</th>\n",
       "      <th>HRS_OPEN</th>\n",
       "      <th>VISITS</th>\n",
       "      <th>REFERENC</th>\n",
       "      <th>TOTCIR</th>\n",
       "      <th>KIDCIRCL</th>\n",
       "      <th>KIDATTEN</th>\n",
       "      <th>YEAR</th>\n",
       "    </tr>\n",
       "  </thead>\n",
       "  <tbody>\n",
       "    <tr>\n",
       "      <th>0</th>\n",
       "      <td>AK</td>\n",
       "      <td>AK0001</td>\n",
       "      <td>AK0001-002</td>\n",
       "      <td>ANCHOR POINT PUBLIC LIBRARY</td>\n",
       "      <td>0</td>\n",
       "      <td>NaN</td>\n",
       "      <td>NaN</td>\n",
       "      <td>NaN</td>\n",
       "      <td>NaN</td>\n",
       "      <td>73405 MILO FRITZ AVENUE</td>\n",
       "      <td>ANCHOR POINT</td>\n",
       "      <td>99556</td>\n",
       "      <td>KENAI PENINSULA</td>\n",
       "      <td>CI1</td>\n",
       "      <td>0</td>\n",
       "      <td>6400</td>\n",
       "      <td>0</td>\n",
       "      <td>5932</td>\n",
       "      <td>12332</td>\n",
       "      <td>170.0</td>\n",
       "      <td>290.0</td>\n",
       "      <td>12</td>\n",
       "      <td>780</td>\n",
       "      <td>6360</td>\n",
       "      <td>250</td>\n",
       "      <td>10243</td>\n",
       "      <td>3998</td>\n",
       "      <td>335</td>\n",
       "      <td>2002</td>\n",
       "    </tr>\n",
       "    <tr>\n",
       "      <th>1</th>\n",
       "      <td>AK</td>\n",
       "      <td>AK0002</td>\n",
       "      <td>AK0002-011</td>\n",
       "      <td>ANCHORAGE MUNICIPAL LIBRARIES</td>\n",
       "      <td>0</td>\n",
       "      <td>NaN</td>\n",
       "      <td>NaN</td>\n",
       "      <td>NaN</td>\n",
       "      <td>NaN</td>\n",
       "      <td>3600 DENALI STREET</td>\n",
       "      <td>ANCHORAGE</td>\n",
       "      <td>99503</td>\n",
       "      <td>ANCHORAGE</td>\n",
       "      <td>MA1</td>\n",
       "      <td>8083056</td>\n",
       "      <td>142198</td>\n",
       "      <td>68794</td>\n",
       "      <td>521226</td>\n",
       "      <td>8815274</td>\n",
       "      <td>24989.0</td>\n",
       "      <td>20197.0</td>\n",
       "      <td>1645</td>\n",
       "      <td>11440</td>\n",
       "      <td>848980</td>\n",
       "      <td>145628</td>\n",
       "      <td>1274160</td>\n",
       "      <td>464756</td>\n",
       "      <td>16000</td>\n",
       "      <td>2002</td>\n",
       "    </tr>\n",
       "    <tr>\n",
       "      <th>2</th>\n",
       "      <td>AK</td>\n",
       "      <td>AK0003</td>\n",
       "      <td>AK0003-002</td>\n",
       "      <td>ANDERSON VILLAGE LIBRARY</td>\n",
       "      <td>0</td>\n",
       "      <td>NaN</td>\n",
       "      <td>NaN</td>\n",
       "      <td>NaN</td>\n",
       "      <td>NaN</td>\n",
       "      <td>FIRST STREET</td>\n",
       "      <td>ANDERSON</td>\n",
       "      <td>99744</td>\n",
       "      <td>DENALI</td>\n",
       "      <td>CI1</td>\n",
       "      <td>4000</td>\n",
       "      <td>6400</td>\n",
       "      <td>0</td>\n",
       "      <td>3000</td>\n",
       "      <td>13400</td>\n",
       "      <td>460.0</td>\n",
       "      <td>1325.0</td>\n",
       "      <td>15</td>\n",
       "      <td>520</td>\n",
       "      <td>2563</td>\n",
       "      <td>427</td>\n",
       "      <td>2741</td>\n",
       "      <td>731</td>\n",
       "      <td>255</td>\n",
       "      <td>2002</td>\n",
       "    </tr>\n",
       "    <tr>\n",
       "      <th>3</th>\n",
       "      <td>AK</td>\n",
       "      <td>AK0006</td>\n",
       "      <td>AK0006-002</td>\n",
       "      <td>KUSKOKWIM CONSORTIUM LIBRARY</td>\n",
       "      <td>0</td>\n",
       "      <td>NaN</td>\n",
       "      <td>NaN</td>\n",
       "      <td>NaN</td>\n",
       "      <td>NaN</td>\n",
       "      <td>420 STATE HIGHWAY</td>\n",
       "      <td>BETHEL</td>\n",
       "      <td>99559</td>\n",
       "      <td>BETHEL</td>\n",
       "      <td>CI1</td>\n",
       "      <td>65000</td>\n",
       "      <td>6400</td>\n",
       "      <td>0</td>\n",
       "      <td>130083</td>\n",
       "      <td>201483</td>\n",
       "      <td>2445.0</td>\n",
       "      <td>1294.0</td>\n",
       "      <td>87</td>\n",
       "      <td>2860</td>\n",
       "      <td>20470</td>\n",
       "      <td>1500</td>\n",
       "      <td>14176</td>\n",
       "      <td>3808</td>\n",
       "      <td>3204</td>\n",
       "      <td>2002</td>\n",
       "    </tr>\n",
       "    <tr>\n",
       "      <th>4</th>\n",
       "      <td>AK</td>\n",
       "      <td>AK0007</td>\n",
       "      <td>AK0007-002</td>\n",
       "      <td>BIG LAKE PUBLIC LIBRARY</td>\n",
       "      <td>0</td>\n",
       "      <td>NaN</td>\n",
       "      <td>NaN</td>\n",
       "      <td>NaN</td>\n",
       "      <td>NaN</td>\n",
       "      <td>3140 SOUTH BIG LAKE ROAD</td>\n",
       "      <td>BIG LAKE</td>\n",
       "      <td>99652</td>\n",
       "      <td>MATANUSKA-SUSITNA</td>\n",
       "      <td>CO1</td>\n",
       "      <td>136495</td>\n",
       "      <td>6400</td>\n",
       "      <td>0</td>\n",
       "      <td>0</td>\n",
       "      <td>142895</td>\n",
       "      <td>791.0</td>\n",
       "      <td>627.0</td>\n",
       "      <td>49</td>\n",
       "      <td>2132</td>\n",
       "      <td>23939</td>\n",
       "      <td>1350</td>\n",
       "      <td>24485</td>\n",
       "      <td>10956</td>\n",
       "      <td>1163</td>\n",
       "      <td>2002</td>\n",
       "    </tr>\n",
       "  </tbody>\n",
       "</table>\n",
       "</div>"
      ],
      "text/plain": [
       "  STATE FSCSKEY  LIBRARY_ID                   LIBRARY_NAME  MOBILE_BOOKS  \\\n",
       "0    AK  AK0001  AK0001-002    ANCHOR POINT PUBLIC LIBRARY             0   \n",
       "1    AK  AK0002  AK0002-011  ANCHORAGE MUNICIPAL LIBRARIES             0   \n",
       "2    AK  AK0003  AK0003-002       ANDERSON VILLAGE LIBRARY             0   \n",
       "3    AK  AK0006  AK0006-002   KUSKOKWIM CONSORTIUM LIBRARY             0   \n",
       "4    AK  AK0007  AK0007-002        BIG LAKE PUBLIC LIBRARY             0   \n",
       "\n",
       "   LONGITUD  LATITUDE  FIPSST  COUNTY_POP                   ADDRESS  \\\n",
       "0       NaN       NaN     NaN         NaN   73405 MILO FRITZ AVENUE   \n",
       "1       NaN       NaN     NaN         NaN        3600 DENALI STREET   \n",
       "2       NaN       NaN     NaN         NaN              FIRST STREET   \n",
       "3       NaN       NaN     NaN         NaN         420 STATE HIGHWAY   \n",
       "4       NaN       NaN     NaN         NaN  3140 SOUTH BIG LAKE ROAD   \n",
       "\n",
       "           CITY    ZIP             COUNTY GEOCODE   LOCGVT   STGVT  FEDGVT  \\\n",
       "0  ANCHOR POINT  99556    KENAI PENINSULA     CI1        0    6400       0   \n",
       "1     ANCHORAGE  99503          ANCHORAGE     MA1  8083056  142198   68794   \n",
       "2      ANDERSON  99744             DENALI     CI1     4000    6400       0   \n",
       "3        BETHEL  99559             BETHEL     CI1    65000    6400       0   \n",
       "4      BIG LAKE  99652  MATANUSKA-SUSITNA     CO1   136495    6400       0   \n",
       "\n",
       "   OTHER_INCOME  TOTAL_INCOME    AUDIO    VIDEO  SUBSCRIP  HRS_OPEN  VISITS  \\\n",
       "0          5932         12332    170.0    290.0        12       780    6360   \n",
       "1        521226       8815274  24989.0  20197.0      1645     11440  848980   \n",
       "2          3000         13400    460.0   1325.0        15       520    2563   \n",
       "3        130083        201483   2445.0   1294.0        87      2860   20470   \n",
       "4             0        142895    791.0    627.0        49      2132   23939   \n",
       "\n",
       "   REFERENC   TOTCIR  KIDCIRCL  KIDATTEN  YEAR  \n",
       "0       250    10243      3998       335  2002  \n",
       "1    145628  1274160    464756     16000  2002  \n",
       "2       427     2741       731       255  2002  \n",
       "3      1500    14176      3808      3204  2002  \n",
       "4      1350    24485     10956      1163  2002  "
      ]
     },
     "execution_count": 16,
     "metadata": {},
     "output_type": "execute_result"
    }
   ],
   "source": [
    "renamed_df = reduced_df.rename(columns={\"STABR\":\"STATE\", \"LIBID\":\"LIBRARY_ID\",\"LIBNAME\":\"LIBRARY_NAME\",\"BKMOB\":\"MOBILE_BOOKS\",\"CNTYPOP\":\"COUNTY_POP\",\n",
    "                                          \"CNTY\":\"COUNTY\",\"OTHINCM\":\"OTHER_INCOME\",\"TOTINCM\":\"TOTAL_INCOME\",\"year\":\"YEAR\"})\n",
    "renamed_df.head()"
   ]
  },
  {
   "cell_type": "code",
   "execution_count": 18,
   "id": "7df99934-6b2a-42a3-8238-1d3fe7bb53fa",
   "metadata": {},
   "outputs": [
    {
     "data": {
      "text/plain": [
       "STATE           120319\n",
       "FSCSKEY         120319\n",
       "LIBRARY_ID      120318\n",
       "LIBRARY_NAME    120319\n",
       "MOBILE_BOOKS    120319\n",
       "LONGITUD         74342\n",
       "LATITUDE         74342\n",
       "FIPSST           74342\n",
       "COUNTY_POP       65125\n",
       "ADDRESS         120319\n",
       "CITY            120319\n",
       "ZIP             120319\n",
       "COUNTY          120319\n",
       "GEOCODE         120319\n",
       "LOCGVT          120319\n",
       "STGVT           120319\n",
       "FEDGVT          120319\n",
       "OTHER_INCOME    120319\n",
       "TOTAL_INCOME    120319\n",
       "AUDIO            73777\n",
       "VIDEO            73777\n",
       "SUBSCRIP        120319\n",
       "HRS_OPEN        120319\n",
       "VISITS          120319\n",
       "REFERENC        120319\n",
       "TOTCIR          120319\n",
       "KIDCIRCL        120319\n",
       "KIDATTEN        120319\n",
       "YEAR            120319\n",
       "dtype: int64"
      ]
     },
     "execution_count": 18,
     "metadata": {},
     "output_type": "execute_result"
    }
   ],
   "source": [
    "renamed_df.count()"
   ]
  },
  {
   "cell_type": "code",
   "execution_count": 20,
   "id": "eb564dca-5469-4f8f-bcb4-eeed5b8cb7b1",
   "metadata": {},
   "outputs": [],
   "source": [
    "no_null_df = renamed_df.dropna(how='any')"
   ]
  },
  {
   "cell_type": "code",
   "execution_count": 21,
   "id": "c40948aa-2806-45ed-98b1-8ba1d3a8a873",
   "metadata": {},
   "outputs": [
    {
     "data": {
      "text/plain": [
       "STATE           18583\n",
       "FSCSKEY         18583\n",
       "LIBRARY_ID      18583\n",
       "LIBRARY_NAME    18583\n",
       "MOBILE_BOOKS    18583\n",
       "LONGITUD        18583\n",
       "LATITUDE        18583\n",
       "FIPSST          18583\n",
       "COUNTY_POP      18583\n",
       "ADDRESS         18583\n",
       "CITY            18583\n",
       "ZIP             18583\n",
       "COUNTY          18583\n",
       "GEOCODE         18583\n",
       "LOCGVT          18583\n",
       "STGVT           18583\n",
       "FEDGVT          18583\n",
       "OTHER_INCOME    18583\n",
       "TOTAL_INCOME    18583\n",
       "AUDIO           18583\n",
       "VIDEO           18583\n",
       "SUBSCRIP        18583\n",
       "HRS_OPEN        18583\n",
       "VISITS          18583\n",
       "REFERENC        18583\n",
       "TOTCIR          18583\n",
       "KIDCIRCL        18583\n",
       "KIDATTEN        18583\n",
       "YEAR            18583\n",
       "dtype: int64"
      ]
     },
     "execution_count": 21,
     "metadata": {},
     "output_type": "execute_result"
    }
   ],
   "source": [
    "no_null_df.count()"
   ]
  },
  {
   "cell_type": "code",
   "execution_count": 23,
   "id": "8431b85d-734f-4672-90d8-cc69b08fd4e8",
   "metadata": {},
   "outputs": [
    {
     "name": "stdout",
     "output_type": "stream",
     "text": [
      "STATE            object\n",
      "FSCSKEY          object\n",
      "LIBRARY_ID       object\n",
      "LIBRARY_NAME     object\n",
      "MOBILE_BOOKS      int64\n",
      "LONGITUD        float64\n",
      "LATITUDE        float64\n",
      "FIPSST          float64\n",
      "COUNTY_POP      float64\n",
      "ADDRESS          object\n",
      "CITY             object\n",
      "ZIP               int64\n",
      "COUNTY           object\n",
      "GEOCODE          object\n",
      "LOCGVT            int64\n",
      "STGVT             int64\n",
      "FEDGVT            int64\n",
      "OTHER_INCOME      int64\n",
      "TOTAL_INCOME      int64\n",
      "AUDIO           float64\n",
      "VIDEO           float64\n",
      "SUBSCRIP          int64\n",
      "HRS_OPEN          int64\n",
      "VISITS            int64\n",
      "REFERENC          int64\n",
      "TOTCIR            int64\n",
      "KIDCIRCL          int64\n",
      "KIDATTEN          int64\n",
      "YEAR             object\n",
      "dtype: object\n"
     ]
    }
   ],
   "source": [
    "print(no_null_df.dtypes)"
   ]
  },
  {
   "cell_type": "code",
   "execution_count": null,
   "id": "bb64de7b-682f-4cdb-817f-88ba17d6ec51",
   "metadata": {},
   "outputs": [],
   "source": []
  }
 ],
 "metadata": {
  "kernelspec": {
   "display_name": "Python 3 (ipykernel)",
   "language": "python",
   "name": "python3"
  },
  "language_info": {
   "codemirror_mode": {
    "name": "ipython",
    "version": 3
   },
   "file_extension": ".py",
   "mimetype": "text/x-python",
   "name": "python",
   "nbconvert_exporter": "python",
   "pygments_lexer": "ipython3",
   "version": "3.11.7"
  }
 },
 "nbformat": 4,
 "nbformat_minor": 5
}
